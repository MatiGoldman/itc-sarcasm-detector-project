{
 "cells": [
  {
   "cell_type": "markdown",
   "metadata": {},
   "source": [
    "# Modeling"
   ]
  },
  {
   "cell_type": "markdown",
   "metadata": {},
   "source": [
    "In this notebook we will go over different models that we can use to predict if a comment is or not **sarcastic**. Thus, we are talking about a classification problem.\n",
    "\n",
    "On the one hand, we will face the problem without using a text-based machine learning model, meaning only using numeric values that we can extract from the comment.\n",
    "\n",
    "On the other hand we will try different text-based methods such as NLTK (stemming, lemmatization), TF-IDF, Word2Vec and more."
   ]
  },
  {
   "cell_type": "markdown",
   "metadata": {},
   "source": [
    "## Let's set a Baseline!"
   ]
  },
  {
   "cell_type": "markdown",
   "metadata": {},
   "source": [
    "Since the data was explored and cleaned in the previous notebook and we know that it **is balanced**, we can set our baseline to be an **accuracy of 50%**."
   ]
  },
  {
   "cell_type": "markdown",
   "metadata": {},
   "source": [
    "## Modeling without a text-based machine learning model"
   ]
  },
  {
   "cell_type": "markdown",
   "metadata": {},
   "source": [
    "If we want to manage the data, we should import some important packages:"
   ]
  },
  {
   "cell_type": "code",
   "execution_count": 1,
   "metadata": {
    "ExecuteTime": {
     "end_time": "2020-02-08T14:24:28.870838Z",
     "start_time": "2020-02-08T14:24:27.141678Z"
    }
   },
   "outputs": [
    {
     "name": "stderr",
     "output_type": "stream",
     "text": [
      "/home/usuario/anaconda3/lib/python3.6/site-packages/sklearn/ensemble/weight_boosting.py:29: DeprecationWarning: numpy.core.umath_tests is an internal NumPy module and should not be imported. It will be removed in a future NumPy release.\n",
      "  from numpy.core.umath_tests import inner1d\n"
     ]
    }
   ],
   "source": [
    "import pandas as pd\n",
    "import numpy as np\n",
    "import seaborn as sns\n",
    "sns.set()\n",
    "import matplotlib.pyplot as plt\n",
    "from sklearn.model_selection import train_test_split\n",
    "from sklearn.model_selection import GridSearchCV\n",
    "from sklearn.linear_model import LogisticRegression\n",
    "from sklearn.ensemble import RandomForestClassifier\n",
    "from sklearn.metrics import confusion_matrix\n",
    "from sklearn.metrics import mean_squared_error\n",
    "from sklearn.metrics import classification_report\n",
    "from sklearn.metrics import accuracy_score\n",
    "from sklearn.pipeline import Pipeline\n",
    "from sklearn.feature_extraction.text import TfidfVectorizer"
   ]
  },
  {
   "cell_type": "code",
   "execution_count": 2,
   "metadata": {
    "ExecuteTime": {
     "end_time": "2020-02-08T09:45:23.241482Z",
     "start_time": "2020-02-08T09:45:18.673184Z"
    }
   },
   "outputs": [],
   "source": [
    "df = pd.read_csv(\"train-balanced-sarcasm.csv\")"
   ]
  },
  {
   "cell_type": "code",
   "execution_count": 3,
   "metadata": {
    "ExecuteTime": {
     "end_time": "2020-02-08T09:45:23.669958Z",
     "start_time": "2020-02-08T09:45:23.243433Z"
    }
   },
   "outputs": [],
   "source": [
    "df.dropna(axis=0, inplace=True)"
   ]
  },
  {
   "cell_type": "code",
   "execution_count": 4,
   "metadata": {
    "ExecuteTime": {
     "end_time": "2020-02-08T09:45:23.913660Z",
     "start_time": "2020-02-08T09:45:23.671652Z"
    }
   },
   "outputs": [],
   "source": [
    "df[\"comment_length\"] = df[\"comment\"].apply(len)"
   ]
  },
  {
   "cell_type": "markdown",
   "metadata": {},
   "source": [
    "Just for simplicity, we will only try to model with the following features:"
   ]
  },
  {
   "cell_type": "code",
   "execution_count": 5,
   "metadata": {
    "ExecuteTime": {
     "end_time": "2020-02-08T09:45:24.030410Z",
     "start_time": "2020-02-08T09:45:23.915460Z"
    }
   },
   "outputs": [],
   "source": [
    "df = df[[\"label\", \"score\", \"comment_length\"]]"
   ]
  },
  {
   "cell_type": "markdown",
   "metadata": {},
   "source": [
    "Then we assign the feature columns **X** and the target feature **y**:"
   ]
  },
  {
   "cell_type": "code",
   "execution_count": 6,
   "metadata": {
    "ExecuteTime": {
     "end_time": "2020-02-08T09:45:24.038610Z",
     "start_time": "2020-02-08T09:45:24.032373Z"
    }
   },
   "outputs": [],
   "source": [
    "X, y = df.loc[:, df.columns != \"label\"], df[\"label\"]"
   ]
  },
  {
   "cell_type": "markdown",
   "metadata": {},
   "source": [
    "Finally, we split our data into **train** and **validation** sets:"
   ]
  },
  {
   "cell_type": "code",
   "execution_count": 45,
   "metadata": {
    "ExecuteTime": {
     "end_time": "2020-02-08T10:18:27.423363Z",
     "start_time": "2020-02-08T10:18:27.350965Z"
    }
   },
   "outputs": [],
   "source": [
    "X_train, X_test, y_train, y_test = train_test_split(\n",
    "     X, y, test_size=0.30, random_state=42)"
   ]
  },
  {
   "cell_type": "markdown",
   "metadata": {},
   "source": [
    "Let's check the shapes of the splits:"
   ]
  },
  {
   "cell_type": "code",
   "execution_count": 46,
   "metadata": {
    "ExecuteTime": {
     "end_time": "2020-02-08T10:18:28.677102Z",
     "start_time": "2020-02-08T10:18:28.671968Z"
    }
   },
   "outputs": [
    {
     "data": {
      "text/plain": [
       "((707541, 2), (303232, 2), (707541,), (303232,))"
      ]
     },
     "execution_count": 46,
     "metadata": {},
     "output_type": "execute_result"
    }
   ],
   "source": [
    "X_train.shape, X_test.shape, y_train.shape, y_test.shape"
   ]
  },
  {
   "cell_type": "markdown",
   "metadata": {},
   "source": [
    "We are going to create a function to apply different models"
   ]
  },
  {
   "cell_type": "code",
   "execution_count": 95,
   "metadata": {
    "ExecuteTime": {
     "end_time": "2020-02-08T13:39:10.730361Z",
     "start_time": "2020-02-08T13:39:10.722009Z"
    }
   },
   "outputs": [],
   "source": [
    "def get_prediction(model, X_train, y_train, X_test, y_test):\n",
    "    y_pred = model.fit(X_train, y_train).predict(X_test)\n",
    "    cm = confusion_matrix(y_test, y_pred)\n",
    "    fig, ax = plt.subplots()\n",
    "    plt.xticks([0, 1], [0, 1])\n",
    "    plt.yticks([0, 1], [0, 1])\n",
    "\n",
    "    # create heatmap\n",
    "    sns.heatmap(pd.DataFrame(cm), annot=True, cmap=\"YlGnBu\" ,fmt='g')\n",
    "    ax.xaxis.set_label_position(\"top\")\n",
    "    plt.tight_layout()\n",
    "    plt.title('Confusion matrix', y=1.1)\n",
    "    plt.ylabel('Actual label')\n",
    "    plt.xlabel('Predicted label')\n",
    "\n",
    "    plt.show()\n",
    "    print(classification_report(y_test, y_pred))\n",
    "    print(\"Accuracy:\", accuracy_score(y_test, y_pred))"
   ]
  },
  {
   "cell_type": "markdown",
   "metadata": {},
   "source": [
    "#### Logistic Regression"
   ]
  },
  {
   "cell_type": "markdown",
   "metadata": {},
   "source": [
    "We are going to apply a Logistic Regression model as it is, without changing any hyperparameter."
   ]
  },
  {
   "cell_type": "code",
   "execution_count": 38,
   "metadata": {
    "ExecuteTime": {
     "end_time": "2020-02-08T10:09:22.848163Z",
     "start_time": "2020-02-08T10:09:21.715621Z"
    }
   },
   "outputs": [
    {
     "data": {
      "image/png": "[encoded data removed]",
      "text/plain": [
       "<Figure size 432x288 with 2 Axes>"
      ]
     },
     "metadata": {},
     "output_type": "display_data"
    },
    {
     "name": "stdout",
     "output_type": "stream",
     "text": [
      "             precision    recall  f1-score   support\n",
      "\n",
      "          0       0.49      0.39      0.44    151387\n",
      "          1       0.50      0.60      0.54    151845\n",
      "\n",
      "avg / total       0.49      0.49      0.49    303232\n",
      "\n",
      "Accuracy: 0.4941727785985648\n"
     ]
    }
   ],
   "source": [
    "get_prediction(LogisticRegression(), X_train, y_train, X_test, y_test)"
   ]
  },
  {
   "cell_type": "markdown",
   "metadata": {},
   "source": [
    "The result is not good, the accuracy is 49% and we did not even reach our 50% baseline that we set at the very beginning. Therefore, we are going to implement a **GridSearchCV** to choose which parameter combinations had the best scores for our model."
   ]
  },
  {
   "cell_type": "code",
   "execution_count": 49,
   "metadata": {
    "ExecuteTime": {
     "end_time": "2020-02-08T10:20:47.709106Z",
     "start_time": "2020-02-08T10:20:47.703167Z"
    }
   },
   "outputs": [],
   "source": [
    "model = LogisticRegression(n_jobs=-1)\n",
    "param_grid = {\"C\": [1.0, 0.5, 2.0], \"max_iter\": [100, 1000, 2000]}"
   ]
  },
  {
   "cell_type": "code",
   "execution_count": 41,
   "metadata": {
    "ExecuteTime": {
     "end_time": "2020-02-08T10:17:21.205713Z",
     "start_time": "2020-02-08T10:17:02.118961Z"
    },
    "scrolled": true
   },
   "outputs": [
    {
     "name": "stdout",
     "output_type": "stream",
     "text": [
      "Fitting 3 folds for each of 9 candidates, totalling 27 fits\n",
      "[CV] C=1.0, max_iter=100 .............................................\n"
     ]
    },
    {
     "name": "stderr",
     "output_type": "stream",
     "text": [
      "/home/usuario/anaconda3/lib/python3.6/site-packages/sklearn/externals/joblib/parallel.py:547: UserWarning: Multiprocessing-backed parallel loops cannot be nested, setting n_jobs=1\n",
      "  **self._backend_args)\n"
     ]
    },
    {
     "name": "stdout",
     "output_type": "stream",
     "text": [
      "[CV] C=1.0, max_iter=100 .............................................\n",
      "[CV] C=1.0, max_iter=100 .............................................\n"
     ]
    },
    {
     "name": "stderr",
     "output_type": "stream",
     "text": [
      "/home/usuario/anaconda3/lib/python3.6/site-packages/sklearn/externals/joblib/parallel.py:547: UserWarning: Multiprocessing-backed parallel loops cannot be nested, setting n_jobs=1\n",
      "  **self._backend_args)\n",
      "/home/usuario/anaconda3/lib/python3.6/site-packages/sklearn/externals/joblib/parallel.py:547: UserWarning: Multiprocessing-backed parallel loops cannot be nested, setting n_jobs=1\n",
      "  **self._backend_args)\n"
     ]
    },
    {
     "name": "stdout",
     "output_type": "stream",
     "text": [
      "[CV] C=1.0, max_iter=1000 ............................................\n"
     ]
    },
    {
     "name": "stderr",
     "output_type": "stream",
     "text": [
      "/home/usuario/anaconda3/lib/python3.6/site-packages/sklearn/externals/joblib/parallel.py:547: UserWarning: Multiprocessing-backed parallel loops cannot be nested, setting n_jobs=1\n",
      "  **self._backend_args)\n"
     ]
    },
    {
     "name": "stdout",
     "output_type": "stream",
     "text": [
      "[CV] C=1.0, max_iter=1000 ............................................\n",
      "[CV] .............................. C=1.0, max_iter=100, total=   0.8s\n"
     ]
    },
    {
     "name": "stderr",
     "output_type": "stream",
     "text": [
      "/home/usuario/anaconda3/lib/python3.6/site-packages/sklearn/externals/joblib/parallel.py:547: UserWarning: Multiprocessing-backed parallel loops cannot be nested, setting n_jobs=1\n",
      "  **self._backend_args)\n"
     ]
    },
    {
     "name": "stdout",
     "output_type": "stream",
     "text": [
      "[CV] C=1.0, max_iter=1000 ............................................\n"
     ]
    },
    {
     "name": "stderr",
     "output_type": "stream",
     "text": [
      "/home/usuario/anaconda3/lib/python3.6/site-packages/sklearn/externals/joblib/parallel.py:547: UserWarning: Multiprocessing-backed parallel loops cannot be nested, setting n_jobs=1\n",
      "  **self._backend_args)\n"
     ]
    },
    {
     "name": "stdout",
     "output_type": "stream",
     "text": [
      "[CV] C=1.0, max_iter=2000 ............................................\n"
     ]
    },
    {
     "name": "stderr",
     "output_type": "stream",
     "text": [
      "/home/usuario/anaconda3/lib/python3.6/site-packages/sklearn/externals/joblib/parallel.py:547: UserWarning: Multiprocessing-backed parallel loops cannot be nested, setting n_jobs=1\n",
      "  **self._backend_args)\n"
     ]
    },
    {
     "name": "stdout",
     "output_type": "stream",
     "text": [
      "[CV] C=1.0, max_iter=2000 ............................................\n",
      "[CV] C=1.0, max_iter=2000 ............................................\n"
     ]
    },
    {
     "name": "stderr",
     "output_type": "stream",
     "text": [
      "/home/usuario/anaconda3/lib/python3.6/site-packages/sklearn/externals/joblib/parallel.py:547: UserWarning: Multiprocessing-backed parallel loops cannot be nested, setting n_jobs=1\n",
      "  **self._backend_args)\n"
     ]
    },
    {
     "name": "stdout",
     "output_type": "stream",
     "text": [
      "[CV] ............................. C=1.0, max_iter=1000, total=   1.7s\n"
     ]
    },
    {
     "name": "stderr",
     "output_type": "stream",
     "text": [
      "/home/usuario/anaconda3/lib/python3.6/site-packages/sklearn/externals/joblib/parallel.py:547: UserWarning: Multiprocessing-backed parallel loops cannot be nested, setting n_jobs=1\n",
      "  **self._backend_args)\n"
     ]
    },
    {
     "name": "stdout",
     "output_type": "stream",
     "text": [
      "[CV] C=0.5, max_iter=100 .............................................\n"
     ]
    },
    {
     "name": "stderr",
     "output_type": "stream",
     "text": [
      "/home/usuario/anaconda3/lib/python3.6/site-packages/sklearn/externals/joblib/parallel.py:547: UserWarning: Multiprocessing-backed parallel loops cannot be nested, setting n_jobs=1\n",
      "  **self._backend_args)\n"
     ]
    },
    {
     "name": "stdout",
     "output_type": "stream",
     "text": [
      "[CV] C=0.5, max_iter=100 .............................................\n",
      "[CV] ............................. C=1.0, max_iter=2000, total=   2.2s\n",
      "[CV] C=0.5, max_iter=100 .............................................\n"
     ]
    },
    {
     "name": "stderr",
     "output_type": "stream",
     "text": [
      "/home/usuario/anaconda3/lib/python3.6/site-packages/sklearn/externals/joblib/parallel.py:547: UserWarning: Multiprocessing-backed parallel loops cannot be nested, setting n_jobs=1\n",
      "  **self._backend_args)\n"
     ]
    },
    {
     "name": "stdout",
     "output_type": "stream",
     "text": [
      "[CV] .............................. C=1.0, max_iter=100, total=   4.0s\n",
      "[CV] C=0.5, max_iter=1000 ............................................\n"
     ]
    },
    {
     "name": "stderr",
     "output_type": "stream",
     "text": [
      "/home/usuario/anaconda3/lib/python3.6/site-packages/sklearn/externals/joblib/parallel.py:547: UserWarning: Multiprocessing-backed parallel loops cannot be nested, setting n_jobs=1\n",
      "  **self._backend_args)\n",
      "/home/usuario/anaconda3/lib/python3.6/site-packages/sklearn/externals/joblib/parallel.py:547: UserWarning: Multiprocessing-backed parallel loops cannot be nested, setting n_jobs=1\n",
      "  **self._backend_args)\n"
     ]
    },
    {
     "name": "stdout",
     "output_type": "stream",
     "text": [
      "[CV] .............................. C=1.0, max_iter=100, total=   4.4s\n",
      "[CV] C=0.5, max_iter=1000 ............................................\n"
     ]
    },
    {
     "name": "stderr",
     "output_type": "stream",
     "text": [
      "/home/usuario/anaconda3/lib/python3.6/site-packages/sklearn/externals/joblib/parallel.py:547: UserWarning: Multiprocessing-backed parallel loops cannot be nested, setting n_jobs=1\n",
      "  **self._backend_args)\n"
     ]
    },
    {
     "name": "stdout",
     "output_type": "stream",
     "text": [
      "[CV] C=0.5, max_iter=1000 ............................................\n"
     ]
    },
    {
     "name": "stderr",
     "output_type": "stream",
     "text": [
      "/home/usuario/anaconda3/lib/python3.6/site-packages/sklearn/externals/joblib/parallel.py:547: UserWarning: Multiprocessing-backed parallel loops cannot be nested, setting n_jobs=1\n",
      "  **self._backend_args)\n"
     ]
    },
    {
     "name": "stdout",
     "output_type": "stream",
     "text": [
      "[CV] C=0.5, max_iter=2000 ............................................\n",
      "[CV] .............................. C=0.5, max_iter=100, total=   2.6s\n"
     ]
    },
    {
     "name": "stderr",
     "output_type": "stream",
     "text": [
      "/home/usuario/anaconda3/lib/python3.6/site-packages/sklearn/externals/joblib/parallel.py:547: UserWarning: Multiprocessing-backed parallel loops cannot be nested, setting n_jobs=1\n",
      "  **self._backend_args)\n"
     ]
    },
    {
     "name": "stdout",
     "output_type": "stream",
     "text": [
      "[CV] ............................. C=1.0, max_iter=1000, total=   5.1s\n",
      "[CV] C=0.5, max_iter=2000 ............................................\n",
      "[CV] ............................. C=1.0, max_iter=1000, total=   5.9s\n"
     ]
    },
    {
     "name": "stderr",
     "output_type": "stream",
     "text": [
      "/home/usuario/anaconda3/lib/python3.6/site-packages/sklearn/externals/joblib/parallel.py:547: UserWarning: Multiprocessing-backed parallel loops cannot be nested, setting n_jobs=1\n",
      "  **self._backend_args)\n"
     ]
    },
    {
     "name": "stdout",
     "output_type": "stream",
     "text": [
      "[CV] C=0.5, max_iter=2000 ............................................\n",
      "[CV] ............................. C=0.5, max_iter=1000, total=   2.8s\n"
     ]
    },
    {
     "name": "stderr",
     "output_type": "stream",
     "text": [
      "/home/usuario/anaconda3/lib/python3.6/site-packages/sklearn/externals/joblib/parallel.py:547: UserWarning: Multiprocessing-backed parallel loops cannot be nested, setting n_jobs=1\n",
      "  **self._backend_args)\n"
     ]
    },
    {
     "name": "stdout",
     "output_type": "stream",
     "text": [
      "[CV] C=2.0, max_iter=100 .............................................\n"
     ]
    },
    {
     "name": "stderr",
     "output_type": "stream",
     "text": [
      "/home/usuario/anaconda3/lib/python3.6/site-packages/sklearn/externals/joblib/parallel.py:547: UserWarning: Multiprocessing-backed parallel loops cannot be nested, setting n_jobs=1\n",
      "  **self._backend_args)\n"
     ]
    },
    {
     "name": "stdout",
     "output_type": "stream",
     "text": [
      "[CV] C=2.0, max_iter=100 .............................................\n",
      "[CV] ............................. C=1.0, max_iter=2000, total=   6.3s\n"
     ]
    },
    {
     "name": "stderr",
     "output_type": "stream",
     "text": [
      "/home/usuario/anaconda3/lib/python3.6/site-packages/sklearn/externals/joblib/parallel.py:547: UserWarning: Multiprocessing-backed parallel loops cannot be nested, setting n_jobs=1\n",
      "  **self._backend_args)\n"
     ]
    },
    {
     "name": "stdout",
     "output_type": "stream",
     "text": [
      "[CV] C=2.0, max_iter=100 .............................................\n",
      "[CV] ............................. C=0.5, max_iter=2000, total=   3.0s\n"
     ]
    },
    {
     "name": "stderr",
     "output_type": "stream",
     "text": [
      "/home/usuario/anaconda3/lib/python3.6/site-packages/sklearn/externals/joblib/parallel.py:547: UserWarning: Multiprocessing-backed parallel loops cannot be nested, setting n_jobs=1\n",
      "  **self._backend_args)\n"
     ]
    },
    {
     "name": "stdout",
     "output_type": "stream",
     "text": [
      "[CV] ............................. C=1.0, max_iter=2000, total=   7.0s\n",
      "[CV] C=2.0, max_iter=1000 ............................................\n"
     ]
    },
    {
     "name": "stderr",
     "output_type": "stream",
     "text": [
      "/home/usuario/anaconda3/lib/python3.6/site-packages/sklearn/externals/joblib/parallel.py:547: UserWarning: Multiprocessing-backed parallel loops cannot be nested, setting n_jobs=1\n",
      "  **self._backend_args)\n"
     ]
    },
    {
     "name": "stdout",
     "output_type": "stream",
     "text": [
      "[CV] .............................. C=0.5, max_iter=100, total=   6.4s\n",
      "[CV] C=2.0, max_iter=1000 ............................................\n",
      "[CV] .............................. C=0.5, max_iter=100, total=   6.5s\n"
     ]
    },
    {
     "name": "stderr",
     "output_type": "stream",
     "text": [
      "/home/usuario/anaconda3/lib/python3.6/site-packages/sklearn/externals/joblib/parallel.py:547: UserWarning: Multiprocessing-backed parallel loops cannot be nested, setting n_jobs=1\n",
      "  **self._backend_args)\n"
     ]
    },
    {
     "name": "stdout",
     "output_type": "stream",
     "text": [
      "[CV] C=2.0, max_iter=1000 ............................................\n",
      "[CV] .............................. C=2.0, max_iter=100, total=   2.7s\n"
     ]
    },
    {
     "name": "stderr",
     "output_type": "stream",
     "text": [
      "/home/usuario/anaconda3/lib/python3.6/site-packages/sklearn/externals/joblib/parallel.py:547: UserWarning: Multiprocessing-backed parallel loops cannot be nested, setting n_jobs=1\n",
      "  **self._backend_args)\n"
     ]
    },
    {
     "name": "stdout",
     "output_type": "stream",
     "text": [
      "[CV] C=2.0, max_iter=2000 ............................................\n",
      "[CV] ............................. C=0.5, max_iter=1000, total=   6.3s\n"
     ]
    },
    {
     "name": "stderr",
     "output_type": "stream",
     "text": [
      "/home/usuario/anaconda3/lib/python3.6/site-packages/sklearn/externals/joblib/parallel.py:547: UserWarning: Multiprocessing-backed parallel loops cannot be nested, setting n_jobs=1\n",
      "  **self._backend_args)\n"
     ]
    },
    {
     "name": "stdout",
     "output_type": "stream",
     "text": [
      "[CV] C=2.0, max_iter=2000 ............................................\n",
      "[CV] ............................. C=0.5, max_iter=1000, total=   6.7s\n"
     ]
    },
    {
     "name": "stderr",
     "output_type": "stream",
     "text": [
      "/home/usuario/anaconda3/lib/python3.6/site-packages/sklearn/externals/joblib/parallel.py:547: UserWarning: Multiprocessing-backed parallel loops cannot be nested, setting n_jobs=1\n",
      "  **self._backend_args)\n"
     ]
    },
    {
     "name": "stdout",
     "output_type": "stream",
     "text": [
      "[CV] C=2.0, max_iter=2000 ............................................\n",
      "[CV] ............................. C=2.0, max_iter=1000, total=   2.5s\n"
     ]
    },
    {
     "name": "stderr",
     "output_type": "stream",
     "text": [
      "[Parallel(n_jobs=-1)]: Done  18 out of  27 | elapsed:   13.3s remaining:    6.7s\n",
      "/home/usuario/anaconda3/lib/python3.6/site-packages/sklearn/externals/joblib/parallel.py:547: UserWarning: Multiprocessing-backed parallel loops cannot be nested, setting n_jobs=1\n",
      "  **self._backend_args)\n"
     ]
    },
    {
     "name": "stdout",
     "output_type": "stream",
     "text": [
      "[CV] ............................. C=0.5, max_iter=2000, total=   6.6s\n",
      "[CV] .............................. C=2.0, max_iter=100, total=   5.5s\n",
      "[CV] ............................. C=2.0, max_iter=2000, total=   2.9s\n",
      "[CV] ............................. C=0.5, max_iter=2000, total=   7.3s\n",
      "[CV] .............................. C=2.0, max_iter=100, total=   6.7s\n",
      "[CV] ............................. C=2.0, max_iter=1000, total=   5.5s\n",
      "[CV] ............................. C=2.0, max_iter=1000, total=   5.1s\n",
      "[CV] ............................. C=2.0, max_iter=2000, total=   3.7s\n",
      "[CV] ............................. C=2.0, max_iter=2000, total=   4.2s\n"
     ]
    },
    {
     "name": "stderr",
     "output_type": "stream",
     "text": [
      "[Parallel(n_jobs=-1)]: Done  27 out of  27 | elapsed:   17.3s finished\n"
     ]
    },
    {
     "data": {
      "text/plain": [
       "GridSearchCV(cv=3, error_score='raise',\n",
       "       estimator=LogisticRegression(C=1.0, class_weight=None, dual=False, fit_intercept=True,\n",
       "          intercept_scaling=1, max_iter=100, multi_class='ovr', n_jobs=-1,\n",
       "          penalty='l2', random_state=42, solver='lbfgs', tol=0.0001,\n",
       "          verbose=0, warm_start=False),\n",
       "       fit_params=None, iid=True, n_jobs=-1,\n",
       "       param_grid={'C': [1.0, 0.5, 2.0], 'max_iter': [100, 1000, 2000]},\n",
       "       pre_dispatch='2*n_jobs', refit=True, return_train_score='warn',\n",
       "       scoring='accuracy', verbose=2)"
      ]
     },
     "execution_count": 41,
     "metadata": {},
     "output_type": "execute_result"
    }
   ],
   "source": [
    "grid = GridSearchCV(model, param_grid, scoring=\"accuracy\",\n",
    "                    cv=3, n_jobs=-1, verbose=2)\n",
    "grid.fit(X_train, y_train)"
   ]
  },
  {
   "cell_type": "code",
   "execution_count": 42,
   "metadata": {
    "ExecuteTime": {
     "end_time": "2020-02-08T10:17:25.088416Z",
     "start_time": "2020-02-08T10:17:25.085784Z"
    }
   },
   "outputs": [
    {
     "name": "stdout",
     "output_type": "stream",
     "text": [
      "0.5013462117389663\n",
      "{'C': 1.0, 'max_iter': 100}\n"
     ]
    }
   ],
   "source": [
    "print(grid.best_score_)\n",
    "print(grid.best_params_)"
   ]
  },
  {
   "cell_type": "markdown",
   "metadata": {},
   "source": [
    "It seems that the best hyperparameters are the ones in default. Let's try with a different model."
   ]
  },
  {
   "cell_type": "markdown",
   "metadata": {},
   "source": [
    "#### RandomForestClassifier"
   ]
  },
  {
   "cell_type": "code",
   "execution_count": 50,
   "metadata": {
    "ExecuteTime": {
     "end_time": "2020-02-08T10:22:12.649014Z",
     "start_time": "2020-02-08T10:22:06.925790Z"
    }
   },
   "outputs": [
    {
     "data": {
      "image/png": "[encoded data removed]",
      "text/plain": [
       "<Figure size 432x288 with 2 Axes>"
      ]
     },
     "metadata": {},
     "output_type": "display_data"
    },
    {
     "name": "stdout",
     "output_type": "stream",
     "text": [
      "             precision    recall  f1-score   support\n",
      "\n",
      "          0       0.57      0.57      0.57    151387\n",
      "          1       0.57      0.56      0.56    151845\n",
      "\n",
      "avg / total       0.57      0.57      0.57    303232\n",
      "\n",
      "Accuracy: 0.5669685257492613\n"
     ]
    }
   ],
   "source": [
    "get_prediction(RandomForestClassifier(), X_train, y_train, X_test, y_test)"
   ]
  },
  {
   "cell_type": "markdown",
   "metadata": {},
   "source": [
    "Using the RandomForestClassifier without tunning its hyperparameters we can get a greater accuracy than the baseline.\n",
    "\n",
    "Let's see if we can improve it a little bit:"
   ]
  },
  {
   "cell_type": "code",
   "execution_count": 51,
   "metadata": {
    "ExecuteTime": {
     "end_time": "2020-02-08T10:31:37.698976Z",
     "start_time": "2020-02-08T10:31:37.696232Z"
    }
   },
   "outputs": [],
   "source": [
    "model = RandomForestClassifier(n_jobs=-1)\n",
    "param_grid = {\"n_estimators\": [10, 100, 150, 200], \"max_depth\": [3, 6, 9, 12, 15]}"
   ]
  },
  {
   "cell_type": "code",
   "execution_count": 52,
   "metadata": {
    "ExecuteTime": {
     "end_time": "2020-02-08T10:40:10.683598Z",
     "start_time": "2020-02-08T10:31:49.815787Z"
    },
    "scrolled": true
   },
   "outputs": [
    {
     "name": "stdout",
     "output_type": "stream",
     "text": [
      "Fitting 3 folds for each of 20 candidates, totalling 60 fits\n",
      "[CV] max_depth=3, n_estimators=10 ....................................\n",
      "[CV] max_depth=3, n_estimators=10 ....................................\n",
      "[CV] max_depth=3, n_estimators=10 ....................................\n",
      "[CV] max_depth=3, n_estimators=100 ...................................\n",
      "[CV] max_depth=3, n_estimators=100 ...................................\n",
      "[CV] max_depth=3, n_estimators=100 ...................................\n",
      "[CV] max_depth=3, n_estimators=150 ...................................\n",
      "[CV] max_depth=3, n_estimators=150 ...................................\n",
      "[CV] max_depth=3, n_estimators=150 ...................................\n",
      "[CV] max_depth=3, n_estimators=200 ...................................\n",
      "[CV] max_depth=3, n_estimators=200 ...................................\n",
      "[CV] max_depth=3, n_estimators=200 ...................................\n",
      "[CV] ..................... max_depth=3, n_estimators=10, total=   1.3s\n",
      "[CV] max_depth=6, n_estimators=10 ....................................\n",
      "[CV] ..................... max_depth=3, n_estimators=10, total=   2.0s\n",
      "[CV] max_depth=6, n_estimators=10 ....................................\n",
      "[CV] ..................... max_depth=3, n_estimators=10, total=   2.8s\n",
      "[CV] max_depth=6, n_estimators=10 ....................................\n",
      "[CV] ..................... max_depth=6, n_estimators=10, total=  11.1s\n",
      "[CV] max_depth=6, n_estimators=100 ...................................\n",
      "[CV] ..................... max_depth=6, n_estimators=10, total=  11.3s\n",
      "[CV] max_depth=6, n_estimators=100 ...................................\n",
      "[CV] ..................... max_depth=6, n_estimators=10, total=  11.3s\n",
      "[CV] max_depth=6, n_estimators=100 ...................................\n",
      "[CV] .................... max_depth=3, n_estimators=100, total=  38.7s\n",
      "[CV] .................... max_depth=3, n_estimators=100, total=  38.8s\n",
      "[CV] max_depth=6, n_estimators=150 ...................................\n",
      "[CV] max_depth=6, n_estimators=150 ...................................\n",
      "[CV] .................... max_depth=3, n_estimators=100, total=  38.7s\n",
      "[CV] max_depth=6, n_estimators=150 ...................................\n",
      "[CV] .................... max_depth=3, n_estimators=150, total=  59.4s\n",
      "[CV] max_depth=6, n_estimators=200 ...................................\n",
      "[CV] .................... max_depth=3, n_estimators=150, total= 1.0min\n",
      "[CV] max_depth=6, n_estimators=200 ...................................\n",
      "[CV] .................... max_depth=3, n_estimators=150, total= 1.0min\n",
      "[CV] max_depth=6, n_estimators=200 ...................................\n",
      "[CV] .................... max_depth=3, n_estimators=200, total= 1.3min\n",
      "[CV] max_depth=9, n_estimators=10 ....................................\n",
      "[CV] .................... max_depth=6, n_estimators=100, total= 1.1min\n",
      "[CV] max_depth=9, n_estimators=10 ....................................\n",
      "[CV] .................... max_depth=3, n_estimators=200, total= 1.3min\n",
      "[CV] max_depth=9, n_estimators=10 ....................................\n",
      "[CV] .................... max_depth=6, n_estimators=100, total= 1.1min\n",
      "[CV] max_depth=9, n_estimators=100 ...................................\n",
      "[CV] .................... max_depth=3, n_estimators=200, total= 1.3min\n",
      "[CV] max_depth=9, n_estimators=100 ...................................\n"
     ]
    },
    {
     "name": "stderr",
     "output_type": "stream",
     "text": [
      "[Parallel(n_jobs=-1)]: Done  17 tasks      | elapsed:  1.5min\n"
     ]
    },
    {
     "name": "stdout",
     "output_type": "stream",
     "text": [
      "[CV] .................... max_depth=6, n_estimators=100, total= 1.2min\n",
      "[CV] max_depth=9, n_estimators=100 ...................................\n",
      "[CV] ..................... max_depth=9, n_estimators=10, total=  12.2s\n",
      "[CV] max_depth=9, n_estimators=150 ...................................\n",
      "[CV] ..................... max_depth=9, n_estimators=10, total=  12.4s\n",
      "[CV] max_depth=9, n_estimators=150 ...................................\n",
      "[CV] ..................... max_depth=9, n_estimators=10, total=  12.5s\n",
      "[CV] max_depth=9, n_estimators=150 ...................................\n",
      "[CV] .................... max_depth=6, n_estimators=150, total= 1.6min\n",
      "[CV] max_depth=9, n_estimators=200 ...................................\n",
      "[CV] .................... max_depth=6, n_estimators=150, total= 1.6min\n",
      "[CV] max_depth=9, n_estimators=200 ...................................\n",
      "[CV] .................... max_depth=6, n_estimators=150, total= 1.6min\n",
      "[CV] max_depth=9, n_estimators=200 ...................................\n",
      "[CV] .................... max_depth=9, n_estimators=100, total= 1.5min\n",
      "[CV] max_depth=12, n_estimators=10 ...................................\n",
      "[CV] .................... max_depth=9, n_estimators=100, total= 1.5min\n",
      "[CV] max_depth=12, n_estimators=10 ...................................\n",
      "[CV] .................... max_depth=9, n_estimators=100, total= 1.5min\n",
      "[CV] max_depth=12, n_estimators=10 ...................................\n",
      "[CV] .................... max_depth=6, n_estimators=200, total= 2.1min\n",
      "[CV] max_depth=12, n_estimators=100 ..................................\n",
      "[CV] .................... max_depth=6, n_estimators=200, total= 2.0min\n",
      "[CV] max_depth=12, n_estimators=100 ..................................\n",
      "[CV] .................... max_depth=12, n_estimators=10, total=  14.2s\n",
      "[CV] max_depth=12, n_estimators=100 ..................................\n",
      "[CV] .................... max_depth=6, n_estimators=200, total= 2.1min\n",
      "[CV] max_depth=12, n_estimators=150 ..................................\n",
      "[CV] .................... max_depth=12, n_estimators=10, total=  13.9s\n",
      "[CV] max_depth=12, n_estimators=150 ..................................\n",
      "[CV] .................... max_depth=12, n_estimators=10, total=  13.6s\n",
      "[CV] max_depth=12, n_estimators=150 ..................................\n",
      "[CV] .................... max_depth=9, n_estimators=150, total= 2.0min\n",
      "[CV] max_depth=12, n_estimators=200 ..................................\n",
      "[CV] .................... max_depth=9, n_estimators=150, total= 2.1min\n",
      "[CV] max_depth=12, n_estimators=200 ..................................\n",
      "[CV] .................... max_depth=9, n_estimators=150, total= 2.1min\n",
      "[CV] max_depth=12, n_estimators=200 ..................................\n",
      "[CV] ................... max_depth=12, n_estimators=100, total= 1.7min\n",
      "[CV] max_depth=15, n_estimators=10 ...................................\n",
      "[CV] ................... max_depth=12, n_estimators=100, total= 1.7min\n",
      "[CV] max_depth=15, n_estimators=10 ...................................\n",
      "[CV] ................... max_depth=12, n_estimators=100, total= 1.7min\n",
      "[CV] max_depth=15, n_estimators=10 ...................................\n",
      "[CV] .................... max_depth=9, n_estimators=200, total= 2.7min\n",
      "[CV] max_depth=15, n_estimators=100 ..................................\n",
      "[CV] .................... max_depth=15, n_estimators=10, total=  13.5s\n",
      "[CV] max_depth=15, n_estimators=100 ..................................\n",
      "[CV] .................... max_depth=9, n_estimators=200, total= 2.7min\n",
      "[CV] max_depth=15, n_estimators=100 ..................................\n",
      "[CV] .................... max_depth=9, n_estimators=200, total= 2.7min\n",
      "[CV] max_depth=15, n_estimators=150 ..................................\n",
      "[CV] .................... max_depth=15, n_estimators=10, total=  13.4s\n",
      "[CV] max_depth=15, n_estimators=150 ..................................\n",
      "[CV] .................... max_depth=15, n_estimators=10, total=  14.0s\n",
      "[CV] max_depth=15, n_estimators=150 ..................................\n",
      "[CV] ................... max_depth=12, n_estimators=150, total= 2.4min\n",
      "[CV] max_depth=15, n_estimators=200 ..................................\n",
      "[CV] ................... max_depth=12, n_estimators=150, total= 2.4min\n",
      "[CV] max_depth=15, n_estimators=200 ..................................\n",
      "[CV] ................... max_depth=12, n_estimators=150, total= 2.4min\n",
      "[CV] max_depth=15, n_estimators=200 ..................................\n",
      "[CV] ................... max_depth=12, n_estimators=200, total= 2.8min\n",
      "[CV] ................... max_depth=15, n_estimators=100, total= 1.6min\n",
      "[CV] ................... max_depth=12, n_estimators=200, total= 3.1min\n",
      "[CV] ................... max_depth=15, n_estimators=100, total= 1.7min\n",
      "[CV] ................... max_depth=15, n_estimators=100, total= 1.7min\n",
      "[CV] ................... max_depth=12, n_estimators=200, total= 3.1min\n",
      "[CV] ................... max_depth=15, n_estimators=150, total= 2.1min\n",
      "[CV] ................... max_depth=15, n_estimators=150, total= 2.1min\n",
      "[CV] ................... max_depth=15, n_estimators=150, total= 2.1min\n",
      "[CV] ................... max_depth=15, n_estimators=200, total= 2.0min\n",
      "[CV] ................... max_depth=15, n_estimators=200, total= 2.0min\n",
      "[CV] ................... max_depth=15, n_estimators=200, total= 2.0min\n"
     ]
    },
    {
     "name": "stderr",
     "output_type": "stream",
     "text": [
      "[Parallel(n_jobs=-1)]: Done  60 out of  60 | elapsed:  8.1min finished\n"
     ]
    },
    {
     "data": {
      "text/plain": [
       "GridSearchCV(cv=3, error_score='raise',\n",
       "       estimator=RandomForestClassifier(bootstrap=True, class_weight=None, criterion='gini',\n",
       "            max_depth=None, max_features='auto', max_leaf_nodes=None,\n",
       "            min_impurity_decrease=0.0, min_impurity_split=None,\n",
       "            min_samples_leaf=1, min_samples_split=2,\n",
       "            min_weight_fraction_leaf=0.0, n_estimators=10, n_jobs=-1,\n",
       "            oob_score=False, random_state=None, verbose=0,\n",
       "            warm_start=False),\n",
       "       fit_params=None, iid=True, n_jobs=-1,\n",
       "       param_grid={'n_estimators': [10, 100, 150, 200], 'max_depth': [3, 6, 9, 12, 15]},\n",
       "       pre_dispatch='2*n_jobs', refit=True, return_train_score='warn',\n",
       "       scoring='accuracy', verbose=2)"
      ]
     },
     "execution_count": 52,
     "metadata": {},
     "output_type": "execute_result"
    }
   ],
   "source": [
    "grid = GridSearchCV(model, param_grid, scoring=\"accuracy\",\n",
    "                    cv=3, n_jobs=-1, verbose=2)\n",
    "grid.fit(X_train, y_train)"
   ]
  },
  {
   "cell_type": "code",
   "execution_count": 53,
   "metadata": {
    "ExecuteTime": {
     "end_time": "2020-02-08T10:43:11.804820Z",
     "start_time": "2020-02-08T10:43:11.799524Z"
    }
   },
   "outputs": [
    {
     "name": "stdout",
     "output_type": "stream",
     "text": [
      "0.573698202648327\n",
      "{'max_depth': 6, 'n_estimators': 200}\n"
     ]
    }
   ],
   "source": [
    "print(grid.best_score_)\n",
    "print(grid.best_params_)"
   ]
  },
  {
   "cell_type": "code",
   "execution_count": 54,
   "metadata": {
    "ExecuteTime": {
     "end_time": "2020-02-08T10:44:05.179493Z",
     "start_time": "2020-02-08T10:43:47.365510Z"
    }
   },
   "outputs": [
    {
     "data": {
      "image/png": "[encoded data removed]",
      "text/plain": [
       "<Figure size 432x288 with 2 Axes>"
      ]
     },
     "metadata": {},
     "output_type": "display_data"
    },
    {
     "name": "stdout",
     "output_type": "stream",
     "text": [
      "             precision    recall  f1-score   support\n",
      "\n",
      "          0       0.57      0.60      0.58    151387\n",
      "          1       0.58      0.55      0.57    151845\n",
      "\n",
      "avg / total       0.58      0.58      0.57    303232\n",
      "\n",
      "Accuracy: 0.5751338908822288\n"
     ]
    }
   ],
   "source": [
    "get_prediction(RandomForestClassifier(max_depth=6, n_estimators=200, n_jobs=-1), X_train, y_train, X_test, y_test)"
   ]
  },
  {
   "cell_type": "markdown",
   "metadata": {},
   "source": [
    "The accuracy improved by 1% after tunning the hyperparameters."
   ]
  },
  {
   "cell_type": "markdown",
   "metadata": {},
   "source": [
    "#### LinearSVC"
   ]
  },
  {
   "cell_type": "code",
   "execution_count": 58,
   "metadata": {
    "ExecuteTime": {
     "end_time": "2020-02-08T10:54:07.035757Z",
     "start_time": "2020-02-08T10:52:35.866194Z"
    }
   },
   "outputs": [
    {
     "data": {
      "image/png": "[encoded data removed]",
      "text/plain": [
       "<Figure size 432x288 with 2 Axes>"
      ]
     },
     "metadata": {},
     "output_type": "display_data"
    },
    {
     "name": "stdout",
     "output_type": "stream",
     "text": [
      "             precision    recall  f1-score   support\n",
      "\n",
      "          0       0.50      1.00      0.67    151387\n",
      "          1       0.52      0.00      0.00    151845\n",
      "\n",
      "avg / total       0.51      0.50      0.33    303232\n",
      "\n",
      "Accuracy: 0.49924810046433094\n"
     ]
    }
   ],
   "source": [
    "from sklearn.svm import LinearSVC\n",
    "get_prediction(LinearSVC(), X_train, y_train, X_test, y_test)"
   ]
  },
  {
   "cell_type": "markdown",
   "metadata": {},
   "source": [
    "### Conclusion"
   ]
  },
  {
   "cell_type": "markdown",
   "metadata": {},
   "source": [
    "We think that ignoring the comments feature it is not a good idea because the different models can not achieve a good result."
   ]
  },
  {
   "cell_type": "markdown",
   "metadata": {},
   "source": [
    "## Modeling with a text-based machine learning model"
   ]
  },
  {
   "cell_type": "code",
   "execution_count": 2,
   "metadata": {
    "ExecuteTime": {
     "end_time": "2020-02-08T14:24:37.860305Z",
     "start_time": "2020-02-08T14:24:33.300572Z"
    }
   },
   "outputs": [],
   "source": [
    "df = pd.read_csv(\"train-balanced-sarcasm.csv\")"
   ]
  },
  {
   "cell_type": "code",
   "execution_count": 3,
   "metadata": {
    "ExecuteTime": {
     "end_time": "2020-02-08T14:24:38.277595Z",
     "start_time": "2020-02-08T14:24:37.862053Z"
    }
   },
   "outputs": [],
   "source": [
    "df.dropna(axis=0, inplace=True)"
   ]
  },
  {
   "cell_type": "code",
   "execution_count": 4,
   "metadata": {
    "ExecuteTime": {
     "end_time": "2020-02-08T14:24:38.394201Z",
     "start_time": "2020-02-08T14:24:38.279453Z"
    }
   },
   "outputs": [],
   "source": [
    "df = df[[\"comment\", \"label\"]].copy()"
   ]
  },
  {
   "cell_type": "code",
   "execution_count": 5,
   "metadata": {
    "ExecuteTime": {
     "end_time": "2020-02-08T14:24:38.398448Z",
     "start_time": "2020-02-08T14:24:38.396121Z"
    }
   },
   "outputs": [],
   "source": [
    "X, y = df[\"comment\"], df[\"label\"]"
   ]
  },
  {
   "cell_type": "code",
   "execution_count": 6,
   "metadata": {
    "ExecuteTime": {
     "end_time": "2020-02-08T14:24:38.540338Z",
     "start_time": "2020-02-08T14:24:38.400076Z"
    }
   },
   "outputs": [],
   "source": [
    "X_train, X_test, y_train, y_test = train_test_split(\n",
    "     X, y, test_size=0.30, random_state=42)"
   ]
  },
  {
   "cell_type": "code",
   "execution_count": 7,
   "metadata": {
    "ExecuteTime": {
     "end_time": "2020-02-08T14:24:38.546082Z",
     "start_time": "2020-02-08T14:24:38.542201Z"
    }
   },
   "outputs": [],
   "source": [
    "def get_scores(y_test, y_pred):\n",
    "    cm = confusion_matrix(y_test, y_pred)\n",
    "    fig, ax = plt.subplots()\n",
    "    plt.xticks([0, 1], [0, 1])\n",
    "    plt.yticks([0, 1], [0, 1])\n",
    "\n",
    "    # create heatmap\n",
    "    sns.heatmap(pd.DataFrame(cm), annot=True, cmap=\"YlGnBu\" ,fmt='g')\n",
    "    ax.xaxis.set_label_position(\"top\")\n",
    "    plt.tight_layout()\n",
    "    plt.title('Confusion matrix', y=1.1)\n",
    "    plt.ylabel('Actual label')\n",
    "    plt.xlabel('Predicted label')\n",
    "\n",
    "    plt.show()\n",
    "    print(classification_report(y_test, y_pred))\n",
    "    print(\"Accuracy:\", accuracy_score(y_test, y_pred))"
   ]
  },
  {
   "cell_type": "markdown",
   "metadata": {},
   "source": [
    "#### TF-IDF"
   ]
  },
  {
   "cell_type": "code",
   "execution_count": 16,
   "metadata": {
    "ExecuteTime": {
     "end_time": "2020-02-08T14:31:34.303244Z",
     "start_time": "2020-02-08T14:30:44.689084Z"
    },
    "scrolled": true
   },
   "outputs": [
    {
     "data": {
      "text/plain": [
       "Pipeline(memory=None,\n",
       "     steps=[('tfidf', TfidfVectorizer(analyzer='word', binary=False, decode_error='strict',\n",
       "        dtype=<class 'numpy.int64'>, encoding='utf-8', input='content',\n",
       "        lowercase=True, max_df=1.0, max_features=None, min_df=1,\n",
       "        ngram_range=(1, 3), norm='l2', preprocessor=None, smooth_idf=True,\n",
       " ...ty='l2', random_state=None, solver='liblinear', tol=0.0001,\n",
       "          verbose=0, warm_start=False))])"
      ]
     },
     "execution_count": 16,
     "metadata": {},
     "output_type": "execute_result"
    }
   ],
   "source": [
    "pipeline = Pipeline(steps=\n",
    "                   [(\"tfidf\", TfidfVectorizer()),\n",
    "                   (\"clf\", LogisticRegression())])\n",
    "pipeline.fit(X_train, y_train)"
   ]
  },
  {
   "cell_type": "code",
   "execution_count": 9,
   "metadata": {
    "ExecuteTime": {
     "end_time": "2020-02-08T14:25:03.368736Z",
     "start_time": "2020-02-08T14:25:00.329701Z"
    }
   },
   "outputs": [
    {
     "data": {
      "image/png": "[encoded data removed]",
      "text/plain": [
       "<Figure size 432x288 with 2 Axes>"
      ]
     },
     "metadata": {},
     "output_type": "display_data"
    },
    {
     "name": "stdout",
     "output_type": "stream",
     "text": [
      "             precision    recall  f1-score   support\n",
      "\n",
      "          0       0.68      0.73      0.70    151387\n",
      "          1       0.71      0.65      0.68    151845\n",
      "\n",
      "avg / total       0.69      0.69      0.69    303232\n",
      "\n",
      "Accuracy: 0.6914474725622626\n"
     ]
    }
   ],
   "source": [
    "preds = pipeline.predict(X_test)\n",
    "get_scores(y_test, preds)"
   ]
  },
  {
   "cell_type": "code",
   "execution_count": null,
   "metadata": {},
   "outputs": [],
   "source": []
  },
  {
   "cell_type": "code",
   "execution_count": null,
   "metadata": {},
   "outputs": [],
   "source": []
  },
  {
   "cell_type": "code",
   "execution_count": 22,
   "metadata": {
    "ExecuteTime": {
     "end_time": "2020-02-08T14:35:21.660356Z",
     "start_time": "2020-02-08T14:34:38.306885Z"
    }
   },
   "outputs": [
    {
     "data": {
      "text/plain": [
       "Pipeline(memory=None,\n",
       "     steps=[('tfidf', TfidfVectorizer(analyzer='word', binary=False, decode_error='strict',\n",
       "        dtype=<class 'numpy.int64'>, encoding='utf-8', input='content',\n",
       "        lowercase=True, max_df=1.0, max_features=None, min_df=1,\n",
       "        ngram_range=(1, 1), norm='l2', preprocessor=None, smooth_idf=True,\n",
       " ...n_jobs=1,\n",
       "            oob_score=False, random_state=None, verbose=0,\n",
       "            warm_start=False))])"
      ]
     },
     "execution_count": 22,
     "metadata": {},
     "output_type": "execute_result"
    }
   ],
   "source": [
    "pipeline = Pipeline(steps=\n",
    "                   [(\"tfidf\", TfidfVectorizer()),\n",
    "                   (\"clf\", RandomForestClassifier(max_depth=10, n_estimators=200))])\n",
    "pipeline.fit(X_train, y_train)"
   ]
  },
  {
   "cell_type": "code",
   "execution_count": 23,
   "metadata": {
    "ExecuteTime": {
     "end_time": "2020-02-08T14:36:05.651361Z",
     "start_time": "2020-02-08T14:35:56.882198Z"
    }
   },
   "outputs": [
    {
     "data": {
      "image/png": "[encoded data removed]",
      "text/plain": [
       "<Figure size 432x288 with 2 Axes>"
      ]
     },
     "metadata": {},
     "output_type": "display_data"
    },
    {
     "name": "stdout",
     "output_type": "stream",
     "text": [
      "             precision    recall  f1-score   support\n",
      "\n",
      "          0       0.63      0.78      0.70    151387\n",
      "          1       0.71      0.55      0.62    151845\n",
      "\n",
      "avg / total       0.67      0.66      0.66    303232\n",
      "\n",
      "Accuracy: 0.6635843182777543\n"
     ]
    }
   ],
   "source": [
    "preds = pipeline.predict(X_test)\n",
    "get_scores(y_test, preds)"
   ]
  }
 ],
 "metadata": {
  "kernelspec": {
   "display_name": "Python 3",
   "language": "python",
   "name": "python3"
  },
  "language_info": {
   "codemirror_mode": {
    "name": "ipython",
    "version": 3
   },
   "file_extension": ".py",
   "mimetype": "text/x-python",
   "name": "python",
   "nbconvert_exporter": "python",
   "pygments_lexer": "ipython3",
   "version": "3.6.5"
  },
  "toc": {
   "base_numbering": 1,
   "nav_menu": {},
   "number_sections": true,
   "sideBar": true,
   "skip_h1_title": false,
   "title_cell": "Table of Contents",
   "title_sidebar": "Contents",
   "toc_cell": false,
   "toc_position": {},
   "toc_section_display": true,
   "toc_window_display": false
  }
 },
 "nbformat": 4,
 "nbformat_minor": 2
}
